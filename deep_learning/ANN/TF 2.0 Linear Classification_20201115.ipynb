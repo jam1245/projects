{
 "cells": [
  {
   "cell_type": "code",
   "execution_count": 4,
   "metadata": {
    "colab": {
     "base_uri": "https://localhost:8080/"
    },
    "executionInfo": {
     "elapsed": 2823,
     "status": "ok",
     "timestamp": 1605368926877,
     "user": {
      "displayName": "Eric McMillan",
      "photoUrl": "",
      "userId": "09416985388001509452"
     },
     "user_tz": 300
    },
    "id": "QGlcVzlYbaP2",
    "outputId": "d8c0891d-353a-4727-be81-2ff83a18e74b"
   },
   "outputs": [
    {
     "name": "stdout",
     "output_type": "stream",
     "text": [
      "2.3.0\n"
     ]
    }
   ],
   "source": [
    "#Install Tensorflow\n",
    "!pip install -q tensorflow-gpu==2.0.0-beta1\n",
    "import tensorflow as tf\n",
    "print(tf.__version__)"
   ]
  },
  {
   "cell_type": "code",
   "execution_count": null,
   "metadata": {
    "id": "Ts3ATPXgckIb"
   },
   "outputs": [],
   "source": [
    "#Predict whether the diagnosis of breast tissue is malignant or benign?\n",
    "#Classic application of machine learning and deep learning "
   ]
  },
  {
   "cell_type": "code",
   "execution_count": 5,
   "metadata": {
    "executionInfo": {
     "elapsed": 325,
     "status": "ok",
     "timestamp": 1605369108532,
     "user": {
      "displayName": "Eric McMillan",
      "photoUrl": "",
      "userId": "09416985388001509452"
     },
     "user_tz": 300
    },
    "id": "q6Lp7Au9c_m-"
   },
   "outputs": [],
   "source": [
    "#Load Data - From SciKit Learn\n",
    "from sklearn.datasets import load_breast_cancer"
   ]
  },
  {
   "cell_type": "code",
   "execution_count": 6,
   "metadata": {
    "executionInfo": {
     "elapsed": 270,
     "status": "ok",
     "timestamp": 1605369172577,
     "user": {
      "displayName": "Eric McMillan",
      "photoUrl": "",
      "userId": "09416985388001509452"
     },
     "user_tz": 300
    },
    "id": "vs3rUiHhdPHL"
   },
   "outputs": [],
   "source": [
    "#Call this function and load it into a variable called \"data\"\n",
    "data = load_breast_cancer()"
   ]
  },
  {
   "cell_type": "code",
   "execution_count": 7,
   "metadata": {
    "colab": {
     "base_uri": "https://localhost:8080/"
    },
    "executionInfo": {
     "elapsed": 258,
     "status": "ok",
     "timestamp": 1605369225994,
     "user": {
      "displayName": "Eric McMillan",
      "photoUrl": "",
      "userId": "09416985388001509452"
     },
     "user_tz": 300
    },
    "id": "4tPCNULxdZ7h",
    "outputId": "a6e62e17-f3f6-4123-cbaa-e3ddc62d9daf"
   },
   "outputs": [
    {
     "data": {
      "text/plain": [
       "sklearn.utils.Bunch"
      ]
     },
     "execution_count": 7,
     "metadata": {
      "tags": []
     },
     "output_type": "execute_result"
    }
   ],
   "source": [
    "#Check the type of the variable called \"data\"\n",
    "type(data)"
   ]
  },
  {
   "cell_type": "code",
   "execution_count": 8,
   "metadata": {
    "colab": {
     "base_uri": "https://localhost:8080/"
    },
    "executionInfo": {
     "elapsed": 245,
     "status": "ok",
     "timestamp": 1605369286822,
     "user": {
      "displayName": "Eric McMillan",
      "photoUrl": "",
      "userId": "09416985388001509452"
     },
     "user_tz": 300
    },
    "id": "Lg8KKOTNdqma",
    "outputId": "ef6be7e3-0f25-4aec-f314-ae07374557af"
   },
   "outputs": [
    {
     "data": {
      "text/plain": [
       "dict_keys(['data', 'target', 'target_names', 'DESCR', 'feature_names', 'filename'])"
      ]
     },
     "execution_count": 8,
     "metadata": {
      "tags": []
     },
     "output_type": "execute_result"
    }
   ],
   "source": [
    "# Note that a type Bunch is like a dictionary\n",
    "# You can treat the keys like attributes\n",
    "data.keys()\n",
    "\n",
    "#NOTE: Based on the output from keys() \n",
    "#data = input data x\n",
    "#target = targe data y"
   ]
  },
  {
   "cell_type": "code",
   "execution_count": 11,
   "metadata": {
    "colab": {
     "base_uri": "https://localhost:8080/"
    },
    "executionInfo": {
     "elapsed": 252,
     "status": "ok",
     "timestamp": 1605369355030,
     "user": {
      "displayName": "Eric McMillan",
      "photoUrl": "",
      "userId": "09416985388001509452"
     },
     "user_tz": 300
    },
    "id": "m-0YKJ1bd9GZ",
    "outputId": "2b40daf2-934c-4ec0-df02-9487f4bff6f9"
   },
   "outputs": [
    {
     "data": {
      "text/plain": [
       "(569, 30)"
      ]
     },
     "execution_count": 11,
     "metadata": {
      "tags": []
     },
     "output_type": "execute_result"
    }
   ],
   "source": [
    "#Check the shape of x by looking at the file data and the key data and its shape (should not have named the data set data with a key also named data - confusing)\n",
    "data.data.shape\n",
    "\n",
    "#569 samples or rows\n",
    "#30 possilbe input features"
   ]
  },
  {
   "cell_type": "code",
   "execution_count": 14,
   "metadata": {
    "colab": {
     "base_uri": "https://localhost:8080/"
    },
    "executionInfo": {
     "elapsed": 283,
     "status": "ok",
     "timestamp": 1605369710739,
     "user": {
      "displayName": "Eric McMillan",
      "photoUrl": "",
      "userId": "09416985388001509452"
     },
     "user_tz": 300
    },
    "id": "iyYK453nfakA",
    "outputId": "6466e563-caf6-44ae-dee3-b1c54941ff5e"
   },
   "outputs": [
    {
     "data": {
      "text/plain": [
       "(569,)"
      ]
     },
     "execution_count": 14,
     "metadata": {
      "tags": []
     },
     "output_type": "execute_result"
    }
   ],
   "source": [
    "#Confirm that the lenght of y is equal to the lenght of x or 569\n",
    "data.target.shape"
   ]
  },
  {
   "cell_type": "code",
   "execution_count": 12,
   "metadata": {
    "colab": {
     "base_uri": "https://localhost:8080/"
    },
    "executionInfo": {
     "elapsed": 387,
     "status": "ok",
     "timestamp": 1605369631488,
     "user": {
      "displayName": "Eric McMillan",
      "photoUrl": "",
      "userId": "09416985388001509452"
     },
     "user_tz": 300
    },
    "id": "U-otwRbSewv1",
    "outputId": "29290469-5c61-4c3d-f257-df2ecefce573"
   },
   "outputs": [
    {
     "data": {
      "text/plain": [
       "array([0, 0, 0, 0, 0, 0, 0, 0, 0, 0, 0, 0, 0, 0, 0, 0, 0, 0, 0, 1, 1, 1,\n",
       "       0, 0, 0, 0, 0, 0, 0, 0, 0, 0, 0, 0, 0, 0, 0, 1, 0, 0, 0, 0, 0, 0,\n",
       "       0, 0, 1, 0, 1, 1, 1, 1, 1, 0, 0, 1, 0, 0, 1, 1, 1, 1, 0, 1, 0, 0,\n",
       "       1, 1, 1, 1, 0, 1, 0, 0, 1, 0, 1, 0, 0, 1, 1, 1, 0, 0, 1, 0, 0, 0,\n",
       "       1, 1, 1, 0, 1, 1, 0, 0, 1, 1, 1, 0, 0, 1, 1, 1, 1, 0, 1, 1, 0, 1,\n",
       "       1, 1, 1, 1, 1, 1, 1, 0, 0, 0, 1, 0, 0, 1, 1, 1, 0, 0, 1, 0, 1, 0,\n",
       "       0, 1, 0, 0, 1, 1, 0, 1, 1, 0, 1, 1, 1, 1, 0, 1, 1, 1, 1, 1, 1, 1,\n",
       "       1, 1, 0, 1, 1, 1, 1, 0, 0, 1, 0, 1, 1, 0, 0, 1, 1, 0, 0, 1, 1, 1,\n",
       "       1, 0, 1, 1, 0, 0, 0, 1, 0, 1, 0, 1, 1, 1, 0, 1, 1, 0, 0, 1, 0, 0,\n",
       "       0, 0, 1, 0, 0, 0, 1, 0, 1, 0, 1, 1, 0, 1, 0, 0, 0, 0, 1, 1, 0, 0,\n",
       "       1, 1, 1, 0, 1, 1, 1, 1, 1, 0, 0, 1, 1, 0, 1, 1, 0, 0, 1, 0, 1, 1,\n",
       "       1, 1, 0, 1, 1, 1, 1, 1, 0, 1, 0, 0, 0, 0, 0, 0, 0, 0, 0, 0, 0, 0,\n",
       "       0, 0, 1, 1, 1, 1, 1, 1, 0, 1, 0, 1, 1, 0, 1, 1, 0, 1, 0, 0, 1, 1,\n",
       "       1, 1, 1, 1, 1, 1, 1, 1, 1, 1, 1, 0, 1, 1, 0, 1, 0, 1, 1, 1, 1, 1,\n",
       "       1, 1, 1, 1, 1, 1, 1, 1, 1, 0, 1, 1, 1, 0, 1, 0, 1, 1, 1, 1, 0, 0,\n",
       "       0, 1, 1, 1, 1, 0, 1, 0, 1, 0, 1, 1, 1, 0, 1, 1, 1, 1, 1, 1, 1, 0,\n",
       "       0, 0, 1, 1, 1, 1, 1, 1, 1, 1, 1, 1, 1, 0, 0, 1, 0, 0, 0, 1, 0, 0,\n",
       "       1, 1, 1, 1, 1, 0, 1, 1, 1, 1, 1, 0, 1, 1, 1, 0, 1, 1, 0, 0, 1, 1,\n",
       "       1, 1, 1, 1, 0, 1, 1, 1, 1, 1, 1, 1, 0, 1, 1, 1, 1, 1, 0, 1, 1, 0,\n",
       "       1, 1, 1, 1, 1, 1, 1, 1, 1, 1, 1, 1, 0, 1, 0, 0, 1, 0, 1, 1, 1, 1,\n",
       "       1, 0, 1, 1, 0, 1, 0, 1, 1, 0, 1, 0, 1, 1, 1, 1, 1, 1, 1, 1, 0, 0,\n",
       "       1, 1, 1, 1, 1, 1, 0, 1, 1, 1, 1, 1, 1, 1, 1, 1, 1, 0, 1, 1, 1, 1,\n",
       "       1, 1, 1, 0, 1, 0, 1, 1, 0, 1, 1, 1, 1, 1, 0, 0, 1, 0, 1, 0, 1, 1,\n",
       "       1, 1, 1, 0, 1, 1, 0, 1, 0, 1, 0, 0, 1, 1, 1, 0, 1, 1, 1, 1, 1, 1,\n",
       "       1, 1, 1, 1, 1, 0, 1, 0, 0, 1, 1, 1, 1, 1, 1, 1, 1, 1, 1, 1, 1, 1,\n",
       "       1, 1, 1, 1, 1, 1, 1, 1, 1, 1, 1, 1, 0, 0, 0, 0, 0, 0, 1])"
      ]
     },
     "execution_count": 12,
     "metadata": {
      "tags": []
     },
     "output_type": "execute_result"
    }
   ],
   "source": [
    "#print out the target\n",
    "#note how many are are 0's and 1's\n",
    "#normally, when you have K targets, they are labeled 0..K-1\n",
    "#1-D Array of 0's and 1's\n",
    "data.target"
   ]
  },
  {
   "cell_type": "code",
   "execution_count": 13,
   "metadata": {
    "colab": {
     "base_uri": "https://localhost:8080/"
    },
    "executionInfo": {
     "elapsed": 410,
     "status": "ok",
     "timestamp": 1605369684192,
     "user": {
      "displayName": "Eric McMillan",
      "photoUrl": "",
      "userId": "09416985388001509452"
     },
     "user_tz": 300
    },
    "id": "ctBcZOgdfRYB",
    "outputId": "79e2118f-864e-44a0-f3af-2c545ce4673a"
   },
   "outputs": [
    {
     "data": {
      "text/plain": [
       "array(['malignant', 'benign'], dtype='<U9')"
      ]
     },
     "execution_count": 13,
     "metadata": {
      "tags": []
     },
     "output_type": "execute_result"
    }
   ],
   "source": [
    "#Target names\n",
    "data.target_names"
   ]
  },
  {
   "cell_type": "code",
   "execution_count": 15,
   "metadata": {
    "colab": {
     "base_uri": "https://localhost:8080/"
    },
    "executionInfo": {
     "elapsed": 264,
     "status": "ok",
     "timestamp": 1605369800495,
     "user": {
      "displayName": "Eric McMillan",
      "photoUrl": "",
      "userId": "09416985388001509452"
     },
     "user_tz": 300
    },
    "id": "fx1OUZLWfRmW",
    "outputId": "834020fd-b0ce-4b1d-a922-427383c279bd"
   },
   "outputs": [
    {
     "data": {
      "text/plain": [
       "array(['mean radius', 'mean texture', 'mean perimeter', 'mean area',\n",
       "       'mean smoothness', 'mean compactness', 'mean concavity',\n",
       "       'mean concave points', 'mean symmetry', 'mean fractal dimension',\n",
       "       'radius error', 'texture error', 'perimeter error', 'area error',\n",
       "       'smoothness error', 'compactness error', 'concavity error',\n",
       "       'concave points error', 'symmetry error',\n",
       "       'fractal dimension error', 'worst radius', 'worst texture',\n",
       "       'worst perimeter', 'worst area', 'worst smoothness',\n",
       "       'worst compactness', 'worst concavity', 'worst concave points',\n",
       "       'worst symmetry', 'worst fractal dimension'], dtype='<U23')"
      ]
     },
     "execution_count": 15,
     "metadata": {
      "tags": []
     },
     "output_type": "execute_result"
    }
   ],
   "source": [
    "#Print out the feature names\n",
    "data.feature_names"
   ]
  },
  {
   "cell_type": "code",
   "execution_count": 18,
   "metadata": {
    "executionInfo": {
     "elapsed": 271,
     "status": "ok",
     "timestamp": 1605370138179,
     "user": {
      "displayName": "Eric McMillan",
      "photoUrl": "",
      "userId": "09416985388001509452"
     },
     "user_tz": 300
    },
    "id": "ukNgp2CIfRra"
   },
   "outputs": [],
   "source": [
    "#Import Test, Train, Split\n",
    "from sklearn.model_selection import train_test_split"
   ]
  },
  {
   "cell_type": "code",
   "execution_count": 19,
   "metadata": {
    "executionInfo": {
     "elapsed": 310,
     "status": "ok",
     "timestamp": 1605370140178,
     "user": {
      "displayName": "Eric McMillan",
      "photoUrl": "",
      "userId": "09416985388001509452"
     },
     "user_tz": 300
    },
    "id": "0BgLfIqlfRu_"
   },
   "outputs": [],
   "source": [
    "#Split the data into training and testing sets (train and test sets)\n",
    "#This lets us know how our model will perform in the future\n",
    "\n",
    "#66% of data for training and 33% of the data for testing\n",
    "X_train, X_test, y_train, y_test = train_test_split(data.data, data.target, test_size=0.33)\n",
    "\n",
    "#Assign the shape of X_train to the variables N and D (for possible future use)\n",
    "N, D = X_train.shape"
   ]
  },
  {
   "cell_type": "code",
   "execution_count": 21,
   "metadata": {
    "executionInfo": {
     "elapsed": 313,
     "status": "ok",
     "timestamp": 1605370383455,
     "user": {
      "displayName": "Eric McMillan",
      "photoUrl": "",
      "userId": "09416985388001509452"
     },
     "user_tz": 300
    },
    "id": "7H6ymbY7fRyp"
   },
   "outputs": [],
   "source": [
    "#Scale the data\n",
    "#Import StandardScaler \n",
    "from sklearn.preprocessing import StandardScaler"
   ]
  },
  {
   "cell_type": "code",
   "execution_count": 35,
   "metadata": {
    "executionInfo": {
     "elapsed": 414,
     "status": "ok",
     "timestamp": 1605372187193,
     "user": {
      "displayName": "Eric McMillan",
      "photoUrl": "",
      "userId": "09416985388001509452"
     },
     "user_tz": 300
    },
    "id": "4Io2WPXXfR1p"
   },
   "outputs": [],
   "source": [
    "scaler = StandardScaler()\n",
    "X_train = scaler.fit_transform(X_train)\n",
    "X_test = scaler.transform(X_test)"
   ]
  },
  {
   "cell_type": "code",
   "execution_count": null,
   "metadata": {
    "id": "QcbfSAqrhieS"
   },
   "outputs": [],
   "source": [
    "#Tensorflow "
   ]
  },
  {
   "cell_type": "code",
   "execution_count": 41,
   "metadata": {
    "executionInfo": {
     "elapsed": 262,
     "status": "ok",
     "timestamp": 1605372387946,
     "user": {
      "displayName": "Eric McMillan",
      "photoUrl": "",
      "userId": "09416985388001509452"
     },
     "user_tz": 300
    },
    "id": "PFJv3wX8hiiI"
   },
   "outputs": [],
   "source": [
    "#Build the model\n",
    "#List of inputs passed sequentially\n",
    "\n",
    "model = tf.keras.models.Sequential([\n",
    "                                    tf.keras.layers.Input(shape=(D,)),\n",
    "                                    tf.keras.layers.Dense(1, activation='sigmoid')\n",
    "                                    ])\n",
    "\n",
    "model.compile(optimizer='adam',\n",
    "              loss='binary_crossentropy',\n",
    "              metrics=['accuracy'])"
   ]
  },
  {
   "cell_type": "code",
   "execution_count": null,
   "metadata": {
    "id": "AqI_RxM5kf8g"
   },
   "outputs": [],
   "source": [
    "#Instead of passing in a list of layers into the Sequential constructor\n",
    "#We can pass in no arguments at all and later we can add layers\n",
    "#Only need to add a Dense layer if we specify the input_shape \"D\"\n",
    "\n",
    "#model.add(tf.keras.layers.Dense(1, input_shape=(D,), activation=='sigmoid'))"
   ]
  },
  {
   "cell_type": "code",
   "execution_count": 42,
   "metadata": {
    "colab": {
     "base_uri": "https://localhost:8080/"
    },
    "executionInfo": {
     "elapsed": 5025,
     "status": "ok",
     "timestamp": 1605372415397,
     "user": {
      "displayName": "Eric McMillan",
      "photoUrl": "",
      "userId": "09416985388001509452"
     },
     "user_tz": 300
    },
    "id": "_x6egll6himc",
    "outputId": "d0ad008e-b2a9-42d7-b91f-b63ce23ebd56"
   },
   "outputs": [
    {
     "name": "stdout",
     "output_type": "stream",
     "text": [
      "Epoch 1/100\n",
      "WARNING:tensorflow:AutoGraph could not transform <function Model.make_train_function.<locals>.train_function at 0x7ffb6ddeb9d8> and will run it as-is.\n",
      "Please report this to the TensorFlow team. When filing the bug, set the verbosity to 10 (on Linux, `export AUTOGRAPH_VERBOSITY=10`) and attach the full output.\n",
      "Cause: closure mismatch, requested ('self', 'step_function'), but source function had ()\n",
      "To silence this warning, decorate the function with @tf.autograph.experimental.do_not_convert\n",
      "WARNING: AutoGraph could not transform <function Model.make_train_function.<locals>.train_function at 0x7ffb6ddeb9d8> and will run it as-is.\n",
      "Please report this to the TensorFlow team. When filing the bug, set the verbosity to 10 (on Linux, `export AUTOGRAPH_VERBOSITY=10`) and attach the full output.\n",
      "Cause: closure mismatch, requested ('self', 'step_function'), but source function had ()\n",
      "To silence this warning, decorate the function with @tf.autograph.experimental.do_not_convert\n",
      " 1/12 [=>............................] - ETA: 0s - loss: 0.3969 - accuracy: 0.8438WARNING:tensorflow:AutoGraph could not transform <function Model.make_test_function.<locals>.test_function at 0x7ffb6dd6e9d8> and will run it as-is.\n",
      "Please report this to the TensorFlow team. When filing the bug, set the verbosity to 10 (on Linux, `export AUTOGRAPH_VERBOSITY=10`) and attach the full output.\n",
      "Cause: closure mismatch, requested ('self', 'step_function'), but source function had ()\n",
      "To silence this warning, decorate the function with @tf.autograph.experimental.do_not_convert\n",
      "WARNING: AutoGraph could not transform <function Model.make_test_function.<locals>.test_function at 0x7ffb6dd6e9d8> and will run it as-is.\n",
      "Please report this to the TensorFlow team. When filing the bug, set the verbosity to 10 (on Linux, `export AUTOGRAPH_VERBOSITY=10`) and attach the full output.\n",
      "Cause: closure mismatch, requested ('self', 'step_function'), but source function had ()\n",
      "To silence this warning, decorate the function with @tf.autograph.experimental.do_not_convert\n",
      "12/12 [==============================] - 0s 11ms/step - loss: 0.3734 - accuracy: 0.8871 - val_loss: 0.3740 - val_accuracy: 0.9043\n",
      "Epoch 2/100\n",
      "12/12 [==============================] - 0s 3ms/step - loss: 0.3449 - accuracy: 0.9029 - val_loss: 0.3490 - val_accuracy: 0.9096\n",
      "Epoch 3/100\n",
      "12/12 [==============================] - 0s 3ms/step - loss: 0.3211 - accuracy: 0.9186 - val_loss: 0.3273 - val_accuracy: 0.9202\n",
      "Epoch 4/100\n",
      "12/12 [==============================] - 0s 3ms/step - loss: 0.3005 - accuracy: 0.9291 - val_loss: 0.3086 - val_accuracy: 0.9309\n",
      "Epoch 5/100\n",
      "12/12 [==============================] - 0s 3ms/step - loss: 0.2828 - accuracy: 0.9370 - val_loss: 0.2923 - val_accuracy: 0.9362\n",
      "Epoch 6/100\n",
      "12/12 [==============================] - 0s 3ms/step - loss: 0.2673 - accuracy: 0.9449 - val_loss: 0.2783 - val_accuracy: 0.9362\n",
      "Epoch 7/100\n",
      "12/12 [==============================] - 0s 2ms/step - loss: 0.2537 - accuracy: 0.9475 - val_loss: 0.2659 - val_accuracy: 0.9415\n",
      "Epoch 8/100\n",
      "12/12 [==============================] - 0s 3ms/step - loss: 0.2419 - accuracy: 0.9554 - val_loss: 0.2548 - val_accuracy: 0.9415\n",
      "Epoch 9/100\n",
      "12/12 [==============================] - 0s 3ms/step - loss: 0.2313 - accuracy: 0.9554 - val_loss: 0.2447 - val_accuracy: 0.9468\n",
      "Epoch 10/100\n",
      "12/12 [==============================] - 0s 3ms/step - loss: 0.2217 - accuracy: 0.9633 - val_loss: 0.2357 - val_accuracy: 0.9521\n",
      "Epoch 11/100\n",
      "12/12 [==============================] - 0s 3ms/step - loss: 0.2129 - accuracy: 0.9633 - val_loss: 0.2278 - val_accuracy: 0.9521\n",
      "Epoch 12/100\n",
      "12/12 [==============================] - 0s 3ms/step - loss: 0.2051 - accuracy: 0.9633 - val_loss: 0.2203 - val_accuracy: 0.9574\n",
      "Epoch 13/100\n",
      "12/12 [==============================] - 0s 3ms/step - loss: 0.1981 - accuracy: 0.9633 - val_loss: 0.2134 - val_accuracy: 0.9574\n",
      "Epoch 14/100\n",
      "12/12 [==============================] - 0s 3ms/step - loss: 0.1914 - accuracy: 0.9633 - val_loss: 0.2072 - val_accuracy: 0.9574\n",
      "Epoch 15/100\n",
      "12/12 [==============================] - 0s 3ms/step - loss: 0.1851 - accuracy: 0.9659 - val_loss: 0.2015 - val_accuracy: 0.9681\n",
      "Epoch 16/100\n",
      "12/12 [==============================] - 0s 3ms/step - loss: 0.1797 - accuracy: 0.9659 - val_loss: 0.1962 - val_accuracy: 0.9681\n",
      "Epoch 17/100\n",
      "12/12 [==============================] - 0s 3ms/step - loss: 0.1745 - accuracy: 0.9659 - val_loss: 0.1912 - val_accuracy: 0.9681\n",
      "Epoch 18/100\n",
      "12/12 [==============================] - 0s 3ms/step - loss: 0.1696 - accuracy: 0.9659 - val_loss: 0.1867 - val_accuracy: 0.9734\n",
      "Epoch 19/100\n",
      "12/12 [==============================] - 0s 3ms/step - loss: 0.1653 - accuracy: 0.9659 - val_loss: 0.1822 - val_accuracy: 0.9734\n",
      "Epoch 20/100\n",
      "12/12 [==============================] - 0s 3ms/step - loss: 0.1608 - accuracy: 0.9685 - val_loss: 0.1784 - val_accuracy: 0.9734\n",
      "Epoch 21/100\n",
      "12/12 [==============================] - 0s 3ms/step - loss: 0.1572 - accuracy: 0.9685 - val_loss: 0.1745 - val_accuracy: 0.9734\n",
      "Epoch 22/100\n",
      "12/12 [==============================] - 0s 3ms/step - loss: 0.1533 - accuracy: 0.9711 - val_loss: 0.1710 - val_accuracy: 0.9734\n",
      "Epoch 23/100\n",
      "12/12 [==============================] - 0s 3ms/step - loss: 0.1498 - accuracy: 0.9711 - val_loss: 0.1677 - val_accuracy: 0.9734\n",
      "Epoch 24/100\n",
      "12/12 [==============================] - 0s 3ms/step - loss: 0.1465 - accuracy: 0.9711 - val_loss: 0.1645 - val_accuracy: 0.9734\n",
      "Epoch 25/100\n",
      "12/12 [==============================] - 0s 3ms/step - loss: 0.1436 - accuracy: 0.9711 - val_loss: 0.1615 - val_accuracy: 0.9734\n",
      "Epoch 26/100\n",
      "12/12 [==============================] - 0s 3ms/step - loss: 0.1404 - accuracy: 0.9711 - val_loss: 0.1588 - val_accuracy: 0.9734\n",
      "Epoch 27/100\n",
      "12/12 [==============================] - 0s 3ms/step - loss: 0.1378 - accuracy: 0.9711 - val_loss: 0.1561 - val_accuracy: 0.9734\n",
      "Epoch 28/100\n",
      "12/12 [==============================] - 0s 3ms/step - loss: 0.1351 - accuracy: 0.9711 - val_loss: 0.1536 - val_accuracy: 0.9734\n",
      "Epoch 29/100\n",
      "12/12 [==============================] - 0s 3ms/step - loss: 0.1327 - accuracy: 0.9711 - val_loss: 0.1513 - val_accuracy: 0.9734\n",
      "Epoch 30/100\n",
      "12/12 [==============================] - 0s 3ms/step - loss: 0.1305 - accuracy: 0.9711 - val_loss: 0.1490 - val_accuracy: 0.9787\n",
      "Epoch 31/100\n",
      "12/12 [==============================] - 0s 2ms/step - loss: 0.1282 - accuracy: 0.9711 - val_loss: 0.1469 - val_accuracy: 0.9787\n",
      "Epoch 32/100\n",
      "12/12 [==============================] - 0s 2ms/step - loss: 0.1260 - accuracy: 0.9711 - val_loss: 0.1448 - val_accuracy: 0.9787\n",
      "Epoch 33/100\n",
      "12/12 [==============================] - 0s 3ms/step - loss: 0.1240 - accuracy: 0.9711 - val_loss: 0.1428 - val_accuracy: 0.9787\n",
      "Epoch 34/100\n",
      "12/12 [==============================] - 0s 3ms/step - loss: 0.1222 - accuracy: 0.9711 - val_loss: 0.1409 - val_accuracy: 0.9787\n",
      "Epoch 35/100\n",
      "12/12 [==============================] - 0s 3ms/step - loss: 0.1203 - accuracy: 0.9738 - val_loss: 0.1393 - val_accuracy: 0.9787\n",
      "Epoch 36/100\n",
      "12/12 [==============================] - 0s 3ms/step - loss: 0.1186 - accuracy: 0.9738 - val_loss: 0.1375 - val_accuracy: 0.9787\n",
      "Epoch 37/100\n",
      "12/12 [==============================] - 0s 3ms/step - loss: 0.1170 - accuracy: 0.9738 - val_loss: 0.1359 - val_accuracy: 0.9787\n",
      "Epoch 38/100\n",
      "12/12 [==============================] - 0s 3ms/step - loss: 0.1153 - accuracy: 0.9738 - val_loss: 0.1343 - val_accuracy: 0.9787\n",
      "Epoch 39/100\n",
      "12/12 [==============================] - 0s 3ms/step - loss: 0.1139 - accuracy: 0.9738 - val_loss: 0.1327 - val_accuracy: 0.9787\n",
      "Epoch 40/100\n",
      "12/12 [==============================] - 0s 3ms/step - loss: 0.1124 - accuracy: 0.9738 - val_loss: 0.1313 - val_accuracy: 0.9787\n",
      "Epoch 41/100\n",
      "12/12 [==============================] - 0s 3ms/step - loss: 0.1110 - accuracy: 0.9738 - val_loss: 0.1301 - val_accuracy: 0.9787\n",
      "Epoch 42/100\n",
      "12/12 [==============================] - 0s 3ms/step - loss: 0.1097 - accuracy: 0.9738 - val_loss: 0.1287 - val_accuracy: 0.9787\n",
      "Epoch 43/100\n",
      "12/12 [==============================] - 0s 3ms/step - loss: 0.1084 - accuracy: 0.9764 - val_loss: 0.1274 - val_accuracy: 0.9787\n",
      "Epoch 44/100\n",
      "12/12 [==============================] - 0s 3ms/step - loss: 0.1072 - accuracy: 0.9764 - val_loss: 0.1261 - val_accuracy: 0.9787\n",
      "Epoch 45/100\n",
      "12/12 [==============================] - 0s 3ms/step - loss: 0.1061 - accuracy: 0.9764 - val_loss: 0.1250 - val_accuracy: 0.9787\n",
      "Epoch 46/100\n",
      "12/12 [==============================] - 0s 3ms/step - loss: 0.1049 - accuracy: 0.9764 - val_loss: 0.1239 - val_accuracy: 0.9787\n",
      "Epoch 47/100\n",
      "12/12 [==============================] - 0s 3ms/step - loss: 0.1038 - accuracy: 0.9764 - val_loss: 0.1228 - val_accuracy: 0.9787\n",
      "Epoch 48/100\n",
      "12/12 [==============================] - 0s 3ms/step - loss: 0.1028 - accuracy: 0.9764 - val_loss: 0.1218 - val_accuracy: 0.9787\n",
      "Epoch 49/100\n",
      "12/12 [==============================] - 0s 3ms/step - loss: 0.1018 - accuracy: 0.9764 - val_loss: 0.1206 - val_accuracy: 0.9787\n",
      "Epoch 50/100\n",
      "12/12 [==============================] - 0s 3ms/step - loss: 0.1008 - accuracy: 0.9764 - val_loss: 0.1196 - val_accuracy: 0.9787\n",
      "Epoch 51/100\n",
      "12/12 [==============================] - 0s 3ms/step - loss: 0.0999 - accuracy: 0.9790 - val_loss: 0.1187 - val_accuracy: 0.9787\n",
      "Epoch 52/100\n",
      "12/12 [==============================] - 0s 3ms/step - loss: 0.0990 - accuracy: 0.9790 - val_loss: 0.1178 - val_accuracy: 0.9787\n",
      "Epoch 53/100\n",
      "12/12 [==============================] - 0s 3ms/step - loss: 0.0981 - accuracy: 0.9790 - val_loss: 0.1170 - val_accuracy: 0.9787\n",
      "Epoch 54/100\n",
      "12/12 [==============================] - 0s 3ms/step - loss: 0.0973 - accuracy: 0.9790 - val_loss: 0.1161 - val_accuracy: 0.9787\n",
      "Epoch 55/100\n",
      "12/12 [==============================] - 0s 3ms/step - loss: 0.0964 - accuracy: 0.9816 - val_loss: 0.1152 - val_accuracy: 0.9787\n",
      "Epoch 56/100\n",
      "12/12 [==============================] - 0s 5ms/step - loss: 0.0957 - accuracy: 0.9816 - val_loss: 0.1143 - val_accuracy: 0.9787\n",
      "Epoch 57/100\n",
      "12/12 [==============================] - 0s 3ms/step - loss: 0.0949 - accuracy: 0.9816 - val_loss: 0.1136 - val_accuracy: 0.9787\n",
      "Epoch 58/100\n",
      "12/12 [==============================] - 0s 3ms/step - loss: 0.0942 - accuracy: 0.9816 - val_loss: 0.1129 - val_accuracy: 0.9787\n",
      "Epoch 59/100\n",
      "12/12 [==============================] - 0s 3ms/step - loss: 0.0935 - accuracy: 0.9816 - val_loss: 0.1121 - val_accuracy: 0.9787\n",
      "Epoch 60/100\n",
      "12/12 [==============================] - 0s 3ms/step - loss: 0.0928 - accuracy: 0.9816 - val_loss: 0.1113 - val_accuracy: 0.9787\n",
      "Epoch 61/100\n",
      "12/12 [==============================] - 0s 3ms/step - loss: 0.0921 - accuracy: 0.9816 - val_loss: 0.1107 - val_accuracy: 0.9787\n",
      "Epoch 62/100\n",
      "12/12 [==============================] - 0s 3ms/step - loss: 0.0915 - accuracy: 0.9816 - val_loss: 0.1100 - val_accuracy: 0.9787\n",
      "Epoch 63/100\n",
      "12/12 [==============================] - 0s 3ms/step - loss: 0.0908 - accuracy: 0.9816 - val_loss: 0.1094 - val_accuracy: 0.9787\n",
      "Epoch 64/100\n",
      "12/12 [==============================] - 0s 3ms/step - loss: 0.0902 - accuracy: 0.9816 - val_loss: 0.1087 - val_accuracy: 0.9787\n",
      "Epoch 65/100\n",
      "12/12 [==============================] - 0s 3ms/step - loss: 0.0896 - accuracy: 0.9816 - val_loss: 0.1081 - val_accuracy: 0.9787\n",
      "Epoch 66/100\n",
      "12/12 [==============================] - 0s 3ms/step - loss: 0.0890 - accuracy: 0.9816 - val_loss: 0.1075 - val_accuracy: 0.9787\n",
      "Epoch 67/100\n",
      "12/12 [==============================] - 0s 3ms/step - loss: 0.0885 - accuracy: 0.9816 - val_loss: 0.1069 - val_accuracy: 0.9787\n",
      "Epoch 68/100\n",
      "12/12 [==============================] - 0s 3ms/step - loss: 0.0879 - accuracy: 0.9816 - val_loss: 0.1063 - val_accuracy: 0.9787\n",
      "Epoch 69/100\n",
      "12/12 [==============================] - 0s 3ms/step - loss: 0.0874 - accuracy: 0.9816 - val_loss: 0.1057 - val_accuracy: 0.9787\n",
      "Epoch 70/100\n",
      "12/12 [==============================] - 0s 3ms/step - loss: 0.0869 - accuracy: 0.9816 - val_loss: 0.1052 - val_accuracy: 0.9787\n",
      "Epoch 71/100\n",
      "12/12 [==============================] - 0s 3ms/step - loss: 0.0863 - accuracy: 0.9816 - val_loss: 0.1047 - val_accuracy: 0.9787\n",
      "Epoch 72/100\n",
      "12/12 [==============================] - 0s 4ms/step - loss: 0.0858 - accuracy: 0.9816 - val_loss: 0.1041 - val_accuracy: 0.9840\n",
      "Epoch 73/100\n",
      "12/12 [==============================] - 0s 3ms/step - loss: 0.0854 - accuracy: 0.9816 - val_loss: 0.1037 - val_accuracy: 0.9840\n",
      "Epoch 74/100\n",
      "12/12 [==============================] - 0s 3ms/step - loss: 0.0849 - accuracy: 0.9816 - val_loss: 0.1031 - val_accuracy: 0.9840\n",
      "Epoch 75/100\n",
      "12/12 [==============================] - 0s 3ms/step - loss: 0.0844 - accuracy: 0.9816 - val_loss: 0.1026 - val_accuracy: 0.9840\n",
      "Epoch 76/100\n",
      "12/12 [==============================] - 0s 3ms/step - loss: 0.0840 - accuracy: 0.9816 - val_loss: 0.1022 - val_accuracy: 0.9840\n",
      "Epoch 77/100\n",
      "12/12 [==============================] - 0s 3ms/step - loss: 0.0835 - accuracy: 0.9816 - val_loss: 0.1017 - val_accuracy: 0.9840\n",
      "Epoch 78/100\n",
      "12/12 [==============================] - 0s 2ms/step - loss: 0.0831 - accuracy: 0.9816 - val_loss: 0.1012 - val_accuracy: 0.9840\n",
      "Epoch 79/100\n",
      "12/12 [==============================] - 0s 3ms/step - loss: 0.0827 - accuracy: 0.9843 - val_loss: 0.1007 - val_accuracy: 0.9840\n",
      "Epoch 80/100\n",
      "12/12 [==============================] - 0s 3ms/step - loss: 0.0823 - accuracy: 0.9843 - val_loss: 0.1003 - val_accuracy: 0.9840\n",
      "Epoch 81/100\n",
      "12/12 [==============================] - 0s 3ms/step - loss: 0.0818 - accuracy: 0.9843 - val_loss: 0.1000 - val_accuracy: 0.9840\n",
      "Epoch 82/100\n",
      "12/12 [==============================] - 0s 3ms/step - loss: 0.0815 - accuracy: 0.9843 - val_loss: 0.0996 - val_accuracy: 0.9840\n",
      "Epoch 83/100\n",
      "12/12 [==============================] - 0s 3ms/step - loss: 0.0811 - accuracy: 0.9869 - val_loss: 0.0991 - val_accuracy: 0.9840\n",
      "Epoch 84/100\n",
      "12/12 [==============================] - 0s 3ms/step - loss: 0.0807 - accuracy: 0.9869 - val_loss: 0.0987 - val_accuracy: 0.9840\n",
      "Epoch 85/100\n",
      "12/12 [==============================] - 0s 3ms/step - loss: 0.0803 - accuracy: 0.9869 - val_loss: 0.0983 - val_accuracy: 0.9840\n",
      "Epoch 86/100\n",
      "12/12 [==============================] - 0s 3ms/step - loss: 0.0800 - accuracy: 0.9869 - val_loss: 0.0979 - val_accuracy: 0.9840\n",
      "Epoch 87/100\n",
      "12/12 [==============================] - 0s 3ms/step - loss: 0.0796 - accuracy: 0.9869 - val_loss: 0.0975 - val_accuracy: 0.9840\n",
      "Epoch 88/100\n",
      "12/12 [==============================] - 0s 3ms/step - loss: 0.0792 - accuracy: 0.9869 - val_loss: 0.0972 - val_accuracy: 0.9840\n",
      "Epoch 89/100\n",
      "12/12 [==============================] - 0s 3ms/step - loss: 0.0789 - accuracy: 0.9869 - val_loss: 0.0968 - val_accuracy: 0.9840\n",
      "Epoch 90/100\n",
      "12/12 [==============================] - 0s 3ms/step - loss: 0.0786 - accuracy: 0.9869 - val_loss: 0.0964 - val_accuracy: 0.9840\n",
      "Epoch 91/100\n",
      "12/12 [==============================] - 0s 3ms/step - loss: 0.0783 - accuracy: 0.9869 - val_loss: 0.0960 - val_accuracy: 0.9840\n",
      "Epoch 92/100\n",
      "12/12 [==============================] - 0s 3ms/step - loss: 0.0779 - accuracy: 0.9869 - val_loss: 0.0957 - val_accuracy: 0.9840\n",
      "Epoch 93/100\n",
      "12/12 [==============================] - 0s 3ms/step - loss: 0.0776 - accuracy: 0.9869 - val_loss: 0.0955 - val_accuracy: 0.9840\n",
      "Epoch 94/100\n",
      "12/12 [==============================] - 0s 3ms/step - loss: 0.0773 - accuracy: 0.9869 - val_loss: 0.0951 - val_accuracy: 0.9840\n",
      "Epoch 95/100\n",
      "12/12 [==============================] - 0s 3ms/step - loss: 0.0770 - accuracy: 0.9869 - val_loss: 0.0948 - val_accuracy: 0.9840\n",
      "Epoch 96/100\n",
      "12/12 [==============================] - 0s 3ms/step - loss: 0.0767 - accuracy: 0.9869 - val_loss: 0.0945 - val_accuracy: 0.9840\n",
      "Epoch 97/100\n",
      "12/12 [==============================] - 0s 3ms/step - loss: 0.0764 - accuracy: 0.9869 - val_loss: 0.0942 - val_accuracy: 0.9787\n",
      "Epoch 98/100\n",
      "12/12 [==============================] - 0s 3ms/step - loss: 0.0761 - accuracy: 0.9869 - val_loss: 0.0939 - val_accuracy: 0.9787\n",
      "Epoch 99/100\n",
      "12/12 [==============================] - 0s 3ms/step - loss: 0.0758 - accuracy: 0.9869 - val_loss: 0.0936 - val_accuracy: 0.9787\n",
      "Epoch 100/100\n",
      "12/12 [==============================] - 0s 3ms/step - loss: 0.0755 - accuracy: 0.9869 - val_loss: 0.0932 - val_accuracy: 0.9787\n"
     ]
    }
   ],
   "source": [
    "#Train the model\n",
    "r = model.fit(X_train, y_train, validation_data=(X_test, y_test), epochs=100)"
   ]
  },
  {
   "cell_type": "code",
   "execution_count": 43,
   "metadata": {
    "colab": {
     "base_uri": "https://localhost:8080/"
    },
    "executionInfo": {
     "elapsed": 623,
     "status": "ok",
     "timestamp": 1605372420594,
     "user": {
      "displayName": "Eric McMillan",
      "photoUrl": "",
      "userId": "09416985388001509452"
     },
     "user_tz": 300
    },
    "id": "ylB9vb6rhiqN",
    "outputId": "80d2338a-26f9-457c-fa3f-d0fe9b18cde3"
   },
   "outputs": [
    {
     "name": "stdout",
     "output_type": "stream",
     "text": [
      "12/12 [==============================] - 0s 1ms/step - loss: 0.0754 - accuracy: 0.9869\n",
      "Train score:  [0.07536261528730392, 0.9868766665458679]\n",
      "6/6 [==============================] - 0s 1ms/step - loss: 0.0932 - accuracy: 0.9787\n",
      "Test score:  [0.09324401617050171, 0.978723406791687]\n"
     ]
    }
   ],
   "source": [
    "#Evaluate the model- evaluate() returns loss and accuracy \n",
    "print(\"Train score: \", model.evaluate(X_train, y_train))\n",
    "print(\"Test score: \", model.evaluate(X_test, y_test))"
   ]
  },
  {
   "cell_type": "code",
   "execution_count": 44,
   "metadata": {
    "colab": {
     "base_uri": "https://localhost:8080/",
     "height": 283
    },
    "executionInfo": {
     "elapsed": 416,
     "status": "ok",
     "timestamp": 1605372424695,
     "user": {
      "displayName": "Eric McMillan",
      "photoUrl": "",
      "userId": "09416985388001509452"
     },
     "user_tz": 300
    },
    "id": "GIabEtKrhitM",
    "outputId": "a49de527-94c2-410f-ab46-98c9a16e9c2d"
   },
   "outputs": [
    {
     "data": {
      "text/plain": [
       "<matplotlib.legend.Legend at 0x7ffb6dc941d0>"
      ]
     },
     "execution_count": 44,
     "metadata": {
      "tags": []
     },
     "output_type": "execute_result"
    },
    {
     "data": {
      "image/png": "[encoded data removed]",
      "text/plain": [
       "<Figure size 432x288 with 1 Axes>"
      ]
     },
     "metadata": {
      "needs_background": "light",
      "tags": []
     },
     "output_type": "display_data"
    }
   ],
   "source": [
    "#Plot model.fit() output \n",
    "import matplotlib.pyplot as plt\n",
    "plt.plot(r.history['loss'], label = 'loss')\n",
    "plt.plot(r.history['val_loss'], label='val_loss')\n",
    "plt.legend()"
   ]
  },
  {
   "cell_type": "code",
   "execution_count": 45,
   "metadata": {
    "colab": {
     "base_uri": "https://localhost:8080/",
     "height": 283
    },
    "executionInfo": {
     "elapsed": 362,
     "status": "ok",
     "timestamp": 1605372474119,
     "user": {
      "displayName": "Eric McMillan",
      "photoUrl": "",
      "userId": "09416985388001509452"
     },
     "user_tz": 300
    },
    "id": "dkMSUXFDmTbP",
    "outputId": "b31064be-7d10-42ba-a62c-ffe43c4ddec1"
   },
   "outputs": [
    {
     "data": {
      "text/plain": [
       "<matplotlib.legend.Legend at 0x7ffb6cbda128>"
      ]
     },
     "execution_count": 45,
     "metadata": {
      "tags": []
     },
     "output_type": "execute_result"
    },
    {
     "data": {
      "image/png": "[encoded data removed]",
      "text/plain": [
       "<Figure size 432x288 with 1 Axes>"
      ]
     },
     "metadata": {
      "needs_background": "light",
      "tags": []
     },
     "output_type": "display_data"
    }
   ],
   "source": [
    "#Plot the model accuracy\n",
    "plt.plot(r.history['accuracy'], label='acc')\n",
    "plt.plot(r.history['val_accuracy'], label='val_acc')\n",
    "plt.legend()"
   ]
  }
 ],
 "metadata": {
  "colab": {
   "authorship_tag": "ABX9TyPsr3i6LJ1pnFoog+WvFqQR",
   "collapsed_sections": [],
   "name": "TF 2.0 Linear Classification_20201115.ipynb",
   "provenance": []
  },
  "kernelspec": {
   "display_name": "Python 3",
   "language": "python",
   "name": "python3"
  },
  "language_info": {
   "codemirror_mode": {
    "name": "ipython",
    "version": 3
   },
   "file_extension": ".py",
   "mimetype": "text/x-python",
   "name": "python",
   "nbconvert_exporter": "python",
   "pygments_lexer": "ipython3",
   "version": "3.6.10"
  }
 },
 "nbformat": 4,
 "nbformat_minor": 2
}
