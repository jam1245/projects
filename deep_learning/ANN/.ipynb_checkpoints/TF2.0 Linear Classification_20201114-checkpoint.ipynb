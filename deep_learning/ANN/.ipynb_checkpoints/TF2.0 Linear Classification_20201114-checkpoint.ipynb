{
 "cells": [
  {
   "cell_type": "code",
   "execution_count": 2,
   "metadata": {
    "colab": {
     "base_uri": "https://localhost:8080/"
    },
    "executionInfo": {
     "elapsed": 1811,
     "status": "ok",
     "timestamp": 1605400466627,
     "user": {
      "displayName": "Eric McMillan",
      "photoUrl": "",
      "userId": "09416985388001509452"
     },
     "user_tz": 300
    },
    "id": "DeNaBVyT4pn1",
    "outputId": "1bf6e6c6-6145-401b-fca3-733ea6ecae47"
   },
   "outputs": [
    {
     "name": "stdout",
     "output_type": "stream",
     "text": [
      "`%tensorflow_version` only switches the major version: 1.x or 2.x.\n",
      "You set: `2.x  # Colab only.`. This will be interpreted as: `2.x`.\n",
      "\n",
      "\n",
      "TensorFlow 2.x selected.\n",
      "2.3.0\n"
     ]
    }
   ],
   "source": [
    "# Install TensorFlow\n",
    "# !pip install -q tensorflow-gpu==2.0.0-beta1\n",
    "\n",
    "try:\n",
    "  %tensorflow_version 2.x  # Colab only.\n",
    "except Exception:\n",
    "  pass\n",
    "\n",
    "import tensorflow as tf\n",
    "print(tf.__version__)"
   ]
  },
  {
   "cell_type": "code",
   "execution_count": null,
   "metadata": {},
   "outputs": [],
   "source": [
    "import numpy as np\n",
    "\n",
    "a = np.random.rand(3,5)\n",
    "print(a)"
   ]
  },
  {
   "cell_type": "code",
   "execution_count": null,
   "metadata": {},
   "outputs": [],
   "source": []
  },
  {
   "cell_type": "code",
   "execution_count": 3,
   "metadata": {
    "executionInfo": {
     "elapsed": 950,
     "status": "ok",
     "timestamp": 1605400469656,
     "user": {
      "displayName": "Eric McMillan",
      "photoUrl": "",
      "userId": "09416985388001509452"
     },
     "user_tz": 300
    },
    "id": "EtMPQxpC4xD0"
   },
   "outputs": [],
   "source": [
    "# Load in the data\n",
    "from sklearn.datasets import load_breast_cancer"
   ]
  },
  {
   "cell_type": "code",
   "execution_count": 4,
   "metadata": {
    "executionInfo": {
     "elapsed": 335,
     "status": "ok",
     "timestamp": 1605400470922,
     "user": {
      "displayName": "Eric McMillan",
      "photoUrl": "",
      "userId": "09416985388001509452"
     },
     "user_tz": 300
    },
    "id": "pwJ9LvEE5B_z"
   },
   "outputs": [],
   "source": [
    "# load the data\n",
    "data = load_breast_cancer()"
   ]
  },
  {
   "cell_type": "code",
   "execution_count": 5,
   "metadata": {
    "colab": {
     "base_uri": "https://localhost:8080/"
    },
    "executionInfo": {
     "elapsed": 287,
     "status": "ok",
     "timestamp": 1605400472040,
     "user": {
      "displayName": "Eric McMillan",
      "photoUrl": "",
      "userId": "09416985388001509452"
     },
     "user_tz": 300
    },
    "id": "wNkavJSj5EcV",
    "outputId": "01cf8ec0-5dd2-4c99-f9cb-7b3c9539741f"
   },
   "outputs": [
    {
     "data": {
      "text/plain": [
       "sklearn.utils.Bunch"
      ]
     },
     "execution_count": 5,
     "metadata": {
      "tags": []
     },
     "output_type": "execute_result"
    }
   ],
   "source": [
    "# check the type of 'data'\n",
    "type(data)"
   ]
  },
  {
   "cell_type": "code",
   "execution_count": 6,
   "metadata": {
    "colab": {
     "base_uri": "https://localhost:8080/"
    },
    "executionInfo": {
     "elapsed": 293,
     "status": "ok",
     "timestamp": 1605400474759,
     "user": {
      "displayName": "Eric McMillan",
      "photoUrl": "",
      "userId": "09416985388001509452"
     },
     "user_tz": 300
    },
    "id": "OsWYmnYR5GQq",
    "outputId": "3cb577e6-5b01-4717-d830-5c83fda4a448"
   },
   "outputs": [
    {
     "data": {
      "text/plain": [
       "dict_keys(['data', 'target', 'target_names', 'DESCR', 'feature_names', 'filename'])"
      ]
     },
     "execution_count": 6,
     "metadata": {
      "tags": []
     },
     "output_type": "execute_result"
    }
   ],
   "source": [
    "# note: it is a Bunch object\n",
    "# this basically acts like a dictionary where you can treat the keys like attributes\n",
    "data.keys()"
   ]
  },
  {
   "cell_type": "code",
   "execution_count": 7,
   "metadata": {
    "colab": {
     "base_uri": "https://localhost:8080/"
    },
    "executionInfo": {
     "elapsed": 318,
     "status": "ok",
     "timestamp": 1605400475943,
     "user": {
      "displayName": "Eric McMillan",
      "photoUrl": "",
      "userId": "09416985388001509452"
     },
     "user_tz": 300
    },
    "id": "HRYJw4hN5JXD",
    "outputId": "8241399f-f3bb-4d73-94cd-cb12c780a07b"
   },
   "outputs": [
    {
     "data": {
      "text/plain": [
       "(569, 30)"
      ]
     },
     "execution_count": 7,
     "metadata": {
      "tags": []
     },
     "output_type": "execute_result"
    }
   ],
   "source": [
    "# 'data' (the attribute) means the input data\n",
    "data.data.shape\n",
    "# it has 569 samples, 30 features"
   ]
  },
  {
   "cell_type": "code",
   "execution_count": 8,
   "metadata": {
    "colab": {
     "base_uri": "https://localhost:8080/"
    },
    "executionInfo": {
     "elapsed": 292,
     "status": "ok",
     "timestamp": 1605400476977,
     "user": {
      "displayName": "Eric McMillan",
      "photoUrl": "",
      "userId": "09416985388001509452"
     },
     "user_tz": 300
    },
    "id": "G5OVVVge5L-h",
    "outputId": "cb7d30d8-d853-41f7-cd7e-5974774053cf"
   },
   "outputs": [
    {
     "data": {
      "text/plain": [
       "array([0, 0, 0, 0, 0, 0, 0, 0, 0, 0, 0, 0, 0, 0, 0, 0, 0, 0, 0, 1, 1, 1,\n",
       "       0, 0, 0, 0, 0, 0, 0, 0, 0, 0, 0, 0, 0, 0, 0, 1, 0, 0, 0, 0, 0, 0,\n",
       "       0, 0, 1, 0, 1, 1, 1, 1, 1, 0, 0, 1, 0, 0, 1, 1, 1, 1, 0, 1, 0, 0,\n",
       "       1, 1, 1, 1, 0, 1, 0, 0, 1, 0, 1, 0, 0, 1, 1, 1, 0, 0, 1, 0, 0, 0,\n",
       "       1, 1, 1, 0, 1, 1, 0, 0, 1, 1, 1, 0, 0, 1, 1, 1, 1, 0, 1, 1, 0, 1,\n",
       "       1, 1, 1, 1, 1, 1, 1, 0, 0, 0, 1, 0, 0, 1, 1, 1, 0, 0, 1, 0, 1, 0,\n",
       "       0, 1, 0, 0, 1, 1, 0, 1, 1, 0, 1, 1, 1, 1, 0, 1, 1, 1, 1, 1, 1, 1,\n",
       "       1, 1, 0, 1, 1, 1, 1, 0, 0, 1, 0, 1, 1, 0, 0, 1, 1, 0, 0, 1, 1, 1,\n",
       "       1, 0, 1, 1, 0, 0, 0, 1, 0, 1, 0, 1, 1, 1, 0, 1, 1, 0, 0, 1, 0, 0,\n",
       "       0, 0, 1, 0, 0, 0, 1, 0, 1, 0, 1, 1, 0, 1, 0, 0, 0, 0, 1, 1, 0, 0,\n",
       "       1, 1, 1, 0, 1, 1, 1, 1, 1, 0, 0, 1, 1, 0, 1, 1, 0, 0, 1, 0, 1, 1,\n",
       "       1, 1, 0, 1, 1, 1, 1, 1, 0, 1, 0, 0, 0, 0, 0, 0, 0, 0, 0, 0, 0, 0,\n",
       "       0, 0, 1, 1, 1, 1, 1, 1, 0, 1, 0, 1, 1, 0, 1, 1, 0, 1, 0, 0, 1, 1,\n",
       "       1, 1, 1, 1, 1, 1, 1, 1, 1, 1, 1, 0, 1, 1, 0, 1, 0, 1, 1, 1, 1, 1,\n",
       "       1, 1, 1, 1, 1, 1, 1, 1, 1, 0, 1, 1, 1, 0, 1, 0, 1, 1, 1, 1, 0, 0,\n",
       "       0, 1, 1, 1, 1, 0, 1, 0, 1, 0, 1, 1, 1, 0, 1, 1, 1, 1, 1, 1, 1, 0,\n",
       "       0, 0, 1, 1, 1, 1, 1, 1, 1, 1, 1, 1, 1, 0, 0, 1, 0, 0, 0, 1, 0, 0,\n",
       "       1, 1, 1, 1, 1, 0, 1, 1, 1, 1, 1, 0, 1, 1, 1, 0, 1, 1, 0, 0, 1, 1,\n",
       "       1, 1, 1, 1, 0, 1, 1, 1, 1, 1, 1, 1, 0, 1, 1, 1, 1, 1, 0, 1, 1, 0,\n",
       "       1, 1, 1, 1, 1, 1, 1, 1, 1, 1, 1, 1, 0, 1, 0, 0, 1, 0, 1, 1, 1, 1,\n",
       "       1, 0, 1, 1, 0, 1, 0, 1, 1, 0, 1, 0, 1, 1, 1, 1, 1, 1, 1, 1, 0, 0,\n",
       "       1, 1, 1, 1, 1, 1, 0, 1, 1, 1, 1, 1, 1, 1, 1, 1, 1, 0, 1, 1, 1, 1,\n",
       "       1, 1, 1, 0, 1, 0, 1, 1, 0, 1, 1, 1, 1, 1, 0, 0, 1, 0, 1, 0, 1, 1,\n",
       "       1, 1, 1, 0, 1, 1, 0, 1, 0, 1, 0, 0, 1, 1, 1, 0, 1, 1, 1, 1, 1, 1,\n",
       "       1, 1, 1, 1, 1, 0, 1, 0, 0, 1, 1, 1, 1, 1, 1, 1, 1, 1, 1, 1, 1, 1,\n",
       "       1, 1, 1, 1, 1, 1, 1, 1, 1, 1, 1, 1, 0, 0, 0, 0, 0, 0, 1])"
      ]
     },
     "execution_count": 8,
     "metadata": {
      "tags": []
     },
     "output_type": "execute_result"
    }
   ],
   "source": [
    "# 'targets'\n",
    "data.target\n",
    "# note how the targets are just 0s and 1s\n",
    "# normally, when you have K targets, they are labeled 0..K-1"
   ]
  },
  {
   "cell_type": "code",
   "execution_count": 9,
   "metadata": {
    "colab": {
     "base_uri": "https://localhost:8080/"
    },
    "executionInfo": {
     "elapsed": 309,
     "status": "ok",
     "timestamp": 1605400479671,
     "user": {
      "displayName": "Eric McMillan",
      "photoUrl": "",
      "userId": "09416985388001509452"
     },
     "user_tz": 300
    },
    "id": "YFXPFIiB5Osq",
    "outputId": "82975401-93b1-4e06-aa61-d934f5aca864"
   },
   "outputs": [
    {
     "data": {
      "text/plain": [
       "array(['malignant', 'benign'], dtype='<U9')"
      ]
     },
     "execution_count": 9,
     "metadata": {
      "tags": []
     },
     "output_type": "execute_result"
    }
   ],
   "source": [
    "# their meaning is not lost\n",
    "data.target_names"
   ]
  },
  {
   "cell_type": "code",
   "execution_count": 10,
   "metadata": {
    "colab": {
     "base_uri": "https://localhost:8080/"
    },
    "executionInfo": {
     "elapsed": 276,
     "status": "ok",
     "timestamp": 1605400480678,
     "user": {
      "displayName": "Eric McMillan",
      "photoUrl": "",
      "userId": "09416985388001509452"
     },
     "user_tz": 300
    },
    "id": "hujO3u7j5Qm-",
    "outputId": "2b2da7f0-c7fe-4674-e5f9-bcd48e404645"
   },
   "outputs": [
    {
     "data": {
      "text/plain": [
       "(569,)"
      ]
     },
     "execution_count": 10,
     "metadata": {
      "tags": []
     },
     "output_type": "execute_result"
    }
   ],
   "source": [
    "# there are also 569 corresponding targets\n",
    "data.target.shape"
   ]
  },
  {
   "cell_type": "code",
   "execution_count": 11,
   "metadata": {
    "colab": {
     "base_uri": "https://localhost:8080/"
    },
    "executionInfo": {
     "elapsed": 285,
     "status": "ok",
     "timestamp": 1605400482454,
     "user": {
      "displayName": "Eric McMillan",
      "photoUrl": "",
      "userId": "09416985388001509452"
     },
     "user_tz": 300
    },
    "id": "q3o3h2l95SJ0",
    "outputId": "d12c8114-e8a9-4cd2-de6c-fbb059dfa60c"
   },
   "outputs": [
    {
     "data": {
      "text/plain": [
       "array(['mean radius', 'mean texture', 'mean perimeter', 'mean area',\n",
       "       'mean smoothness', 'mean compactness', 'mean concavity',\n",
       "       'mean concave points', 'mean symmetry', 'mean fractal dimension',\n",
       "       'radius error', 'texture error', 'perimeter error', 'area error',\n",
       "       'smoothness error', 'compactness error', 'concavity error',\n",
       "       'concave points error', 'symmetry error',\n",
       "       'fractal dimension error', 'worst radius', 'worst texture',\n",
       "       'worst perimeter', 'worst area', 'worst smoothness',\n",
       "       'worst compactness', 'worst concavity', 'worst concave points',\n",
       "       'worst symmetry', 'worst fractal dimension'], dtype='<U23')"
      ]
     },
     "execution_count": 11,
     "metadata": {
      "tags": []
     },
     "output_type": "execute_result"
    }
   ],
   "source": [
    "# you can also determine the meaning of each feature\n",
    "data.feature_names"
   ]
  },
  {
   "cell_type": "code",
   "execution_count": 17,
   "metadata": {
    "executionInfo": {
     "elapsed": 249,
     "status": "ok",
     "timestamp": 1605400516589,
     "user": {
      "displayName": "Eric McMillan",
      "photoUrl": "",
      "userId": "09416985388001509452"
     },
     "user_tz": 300
    },
    "id": "__iUSucB5Tug"
   },
   "outputs": [],
   "source": [
    "# normally we would put all of our imports at the top\n",
    "# but this lets us tell a story\n",
    "from sklearn.model_selection import train_test_split\n",
    "\n",
    "\n",
    "# split the data into train and test sets\n",
    "# this lets us simulate how our model will perform in the future\n",
    "X_train, X_test, y_train, y_test = train_test_split(data.data, data.target, test_size=0.33)\n",
    "N, D = X_train.shape"
   ]
  },
  {
   "cell_type": "code",
   "execution_count": 18,
   "metadata": {
    "executionInfo": {
     "elapsed": 346,
     "status": "ok",
     "timestamp": 1605400518109,
     "user": {
      "displayName": "Eric McMillan",
      "photoUrl": "",
      "userId": "09416985388001509452"
     },
     "user_tz": 300
    },
    "id": "fS7cFmYl73H3"
   },
   "outputs": [],
   "source": [
    "# Scale the data\n",
    "# you'll learn why scaling is needed in a later course\n",
    "from sklearn.preprocessing import StandardScaler\n",
    "\n",
    "scaler = StandardScaler()\n",
    "X_train = scaler.fit_transform(X_train)\n",
    "X_test = scaler.transform(X_test)"
   ]
  },
  {
   "cell_type": "code",
   "execution_count": 19,
   "metadata": {
    "colab": {
     "base_uri": "https://localhost:8080/"
    },
    "executionInfo": {
     "elapsed": 6325,
     "status": "ok",
     "timestamp": 1605400525926,
     "user": {
      "displayName": "Eric McMillan",
      "photoUrl": "",
      "userId": "09416985388001509452"
     },
     "user_tz": 300
    },
    "id": "y-llhgXY5bmX",
    "outputId": "14c949f6-3085-42d3-e77b-31468af7230d"
   },
   "outputs": [
    {
     "name": "stdout",
     "output_type": "stream",
     "text": [
      "Epoch 1/100\n",
      "12/12 [==============================] - 0s 11ms/step - loss: 1.8349 - accuracy: 0.1234 - val_loss: 1.6954 - val_accuracy: 0.1436\n",
      "Epoch 2/100\n",
      "12/12 [==============================] - 0s 3ms/step - loss: 1.6961 - accuracy: 0.1365 - val_loss: 1.5618 - val_accuracy: 0.1489\n",
      "Epoch 3/100\n",
      "12/12 [==============================] - 0s 3ms/step - loss: 1.5604 - accuracy: 0.1496 - val_loss: 1.4348 - val_accuracy: 0.1809\n",
      "Epoch 4/100\n",
      "12/12 [==============================] - 0s 4ms/step - loss: 1.4308 - accuracy: 0.1549 - val_loss: 1.3144 - val_accuracy: 0.1862\n",
      "Epoch 5/100\n",
      "12/12 [==============================] - 0s 4ms/step - loss: 1.3107 - accuracy: 0.1759 - val_loss: 1.1995 - val_accuracy: 0.2021\n",
      "Epoch 6/100\n",
      "12/12 [==============================] - 0s 4ms/step - loss: 1.1933 - accuracy: 0.1969 - val_loss: 1.0956 - val_accuracy: 0.2394\n",
      "Epoch 7/100\n",
      "12/12 [==============================] - 0s 4ms/step - loss: 1.0900 - accuracy: 0.2572 - val_loss: 0.9983 - val_accuracy: 0.2819\n",
      "Epoch 8/100\n",
      "12/12 [==============================] - 0s 4ms/step - loss: 0.9902 - accuracy: 0.2992 - val_loss: 0.9133 - val_accuracy: 0.3298\n",
      "Epoch 9/100\n",
      "12/12 [==============================] - 0s 4ms/step - loss: 0.9036 - accuracy: 0.3753 - val_loss: 0.8364 - val_accuracy: 0.3883\n",
      "Epoch 10/100\n",
      "12/12 [==============================] - 0s 4ms/step - loss: 0.8272 - accuracy: 0.4357 - val_loss: 0.7666 - val_accuracy: 0.4734\n",
      "Epoch 11/100\n",
      "12/12 [==============================] - 0s 4ms/step - loss: 0.7581 - accuracy: 0.5013 - val_loss: 0.7054 - val_accuracy: 0.5479\n",
      "Epoch 12/100\n",
      "12/12 [==============================] - 0s 4ms/step - loss: 0.6972 - accuracy: 0.5696 - val_loss: 0.6529 - val_accuracy: 0.6011\n",
      "Epoch 13/100\n",
      "12/12 [==============================] - 0s 4ms/step - loss: 0.6434 - accuracy: 0.6378 - val_loss: 0.6072 - val_accuracy: 0.6755\n",
      "Epoch 14/100\n",
      "12/12 [==============================] - 0s 4ms/step - loss: 0.5978 - accuracy: 0.6982 - val_loss: 0.5668 - val_accuracy: 0.7074\n",
      "Epoch 15/100\n",
      "12/12 [==============================] - 0s 4ms/step - loss: 0.5572 - accuracy: 0.7533 - val_loss: 0.5317 - val_accuracy: 0.7500\n",
      "Epoch 16/100\n",
      "12/12 [==============================] - 0s 4ms/step - loss: 0.5218 - accuracy: 0.7979 - val_loss: 0.5010 - val_accuracy: 0.7766\n",
      "Epoch 17/100\n",
      "12/12 [==============================] - 0s 5ms/step - loss: 0.4906 - accuracy: 0.8268 - val_loss: 0.4740 - val_accuracy: 0.8138\n",
      "Epoch 18/100\n",
      "12/12 [==============================] - 0s 4ms/step - loss: 0.4635 - accuracy: 0.8451 - val_loss: 0.4496 - val_accuracy: 0.8404\n",
      "Epoch 19/100\n",
      "12/12 [==============================] - 0s 4ms/step - loss: 0.4385 - accuracy: 0.8714 - val_loss: 0.4285 - val_accuracy: 0.8723\n",
      "Epoch 20/100\n",
      "12/12 [==============================] - 0s 4ms/step - loss: 0.4167 - accuracy: 0.8898 - val_loss: 0.4093 - val_accuracy: 0.8777\n",
      "Epoch 21/100\n",
      "12/12 [==============================] - 0s 4ms/step - loss: 0.3969 - accuracy: 0.9134 - val_loss: 0.3922 - val_accuracy: 0.8883\n",
      "Epoch 22/100\n",
      "12/12 [==============================] - 0s 3ms/step - loss: 0.3793 - accuracy: 0.9160 - val_loss: 0.3764 - val_accuracy: 0.9043\n",
      "Epoch 23/100\n",
      "12/12 [==============================] - 0s 4ms/step - loss: 0.3630 - accuracy: 0.9318 - val_loss: 0.3622 - val_accuracy: 0.9096\n",
      "Epoch 24/100\n",
      "12/12 [==============================] - 0s 5ms/step - loss: 0.3482 - accuracy: 0.9344 - val_loss: 0.3495 - val_accuracy: 0.9149\n",
      "Epoch 25/100\n",
      "12/12 [==============================] - 0s 4ms/step - loss: 0.3350 - accuracy: 0.9396 - val_loss: 0.3375 - val_accuracy: 0.9202\n",
      "Epoch 26/100\n",
      "12/12 [==============================] - 0s 4ms/step - loss: 0.3225 - accuracy: 0.9449 - val_loss: 0.3265 - val_accuracy: 0.9202\n",
      "Epoch 27/100\n",
      "12/12 [==============================] - 0s 4ms/step - loss: 0.3110 - accuracy: 0.9501 - val_loss: 0.3166 - val_accuracy: 0.9255\n",
      "Epoch 28/100\n",
      "12/12 [==============================] - 0s 4ms/step - loss: 0.3007 - accuracy: 0.9528 - val_loss: 0.3072 - val_accuracy: 0.9362\n",
      "Epoch 29/100\n",
      "12/12 [==============================] - 0s 4ms/step - loss: 0.2909 - accuracy: 0.9554 - val_loss: 0.2985 - val_accuracy: 0.9415\n",
      "Epoch 30/100\n",
      "12/12 [==============================] - 0s 4ms/step - loss: 0.2817 - accuracy: 0.9554 - val_loss: 0.2904 - val_accuracy: 0.9415\n",
      "Epoch 31/100\n",
      "12/12 [==============================] - 0s 4ms/step - loss: 0.2734 - accuracy: 0.9580 - val_loss: 0.2829 - val_accuracy: 0.9468\n",
      "Epoch 32/100\n",
      "12/12 [==============================] - 0s 4ms/step - loss: 0.2654 - accuracy: 0.9580 - val_loss: 0.2760 - val_accuracy: 0.9468\n",
      "Epoch 33/100\n",
      "12/12 [==============================] - 0s 4ms/step - loss: 0.2581 - accuracy: 0.9606 - val_loss: 0.2694 - val_accuracy: 0.9468\n",
      "Epoch 34/100\n",
      "12/12 [==============================] - 0s 4ms/step - loss: 0.2511 - accuracy: 0.9659 - val_loss: 0.2633 - val_accuracy: 0.9468\n",
      "Epoch 35/100\n",
      "12/12 [==============================] - 0s 4ms/step - loss: 0.2448 - accuracy: 0.9659 - val_loss: 0.2575 - val_accuracy: 0.9574\n",
      "Epoch 36/100\n",
      "12/12 [==============================] - 0s 4ms/step - loss: 0.2386 - accuracy: 0.9685 - val_loss: 0.2519 - val_accuracy: 0.9628\n",
      "Epoch 37/100\n",
      "12/12 [==============================] - 0s 4ms/step - loss: 0.2328 - accuracy: 0.9659 - val_loss: 0.2467 - val_accuracy: 0.9628\n",
      "Epoch 38/100\n",
      "12/12 [==============================] - 0s 5ms/step - loss: 0.2273 - accuracy: 0.9659 - val_loss: 0.2418 - val_accuracy: 0.9628\n",
      "Epoch 39/100\n",
      "12/12 [==============================] - 0s 4ms/step - loss: 0.2223 - accuracy: 0.9659 - val_loss: 0.2372 - val_accuracy: 0.9681\n",
      "Epoch 40/100\n",
      "12/12 [==============================] - 0s 4ms/step - loss: 0.2173 - accuracy: 0.9659 - val_loss: 0.2327 - val_accuracy: 0.9681\n",
      "Epoch 41/100\n",
      "12/12 [==============================] - 0s 4ms/step - loss: 0.2128 - accuracy: 0.9659 - val_loss: 0.2285 - val_accuracy: 0.9681\n",
      "Epoch 42/100\n",
      "12/12 [==============================] - 0s 4ms/step - loss: 0.2083 - accuracy: 0.9659 - val_loss: 0.2245 - val_accuracy: 0.9681\n",
      "Epoch 43/100\n",
      "12/12 [==============================] - 0s 4ms/step - loss: 0.2041 - accuracy: 0.9659 - val_loss: 0.2207 - val_accuracy: 0.9681\n",
      "Epoch 44/100\n",
      "12/12 [==============================] - 0s 4ms/step - loss: 0.2002 - accuracy: 0.9659 - val_loss: 0.2170 - val_accuracy: 0.9734\n",
      "Epoch 45/100\n",
      "12/12 [==============================] - 0s 4ms/step - loss: 0.1963 - accuracy: 0.9659 - val_loss: 0.2135 - val_accuracy: 0.9734\n",
      "Epoch 46/100\n",
      "12/12 [==============================] - 0s 4ms/step - loss: 0.1929 - accuracy: 0.9685 - val_loss: 0.2102 - val_accuracy: 0.9787\n",
      "Epoch 47/100\n",
      "12/12 [==============================] - 0s 4ms/step - loss: 0.1893 - accuracy: 0.9685 - val_loss: 0.2070 - val_accuracy: 0.9787\n",
      "Epoch 48/100\n",
      "12/12 [==============================] - 0s 4ms/step - loss: 0.1860 - accuracy: 0.9685 - val_loss: 0.2040 - val_accuracy: 0.9787\n",
      "Epoch 49/100\n",
      "12/12 [==============================] - 0s 4ms/step - loss: 0.1829 - accuracy: 0.9685 - val_loss: 0.2011 - val_accuracy: 0.9787\n",
      "Epoch 50/100\n",
      "12/12 [==============================] - 0s 4ms/step - loss: 0.1798 - accuracy: 0.9685 - val_loss: 0.1983 - val_accuracy: 0.9787\n",
      "Epoch 51/100\n",
      "12/12 [==============================] - 0s 4ms/step - loss: 0.1770 - accuracy: 0.9685 - val_loss: 0.1955 - val_accuracy: 0.9787\n",
      "Epoch 52/100\n",
      "12/12 [==============================] - 0s 4ms/step - loss: 0.1741 - accuracy: 0.9685 - val_loss: 0.1930 - val_accuracy: 0.9787\n",
      "Epoch 53/100\n",
      "12/12 [==============================] - 0s 4ms/step - loss: 0.1715 - accuracy: 0.9685 - val_loss: 0.1905 - val_accuracy: 0.9787\n",
      "Epoch 54/100\n",
      "12/12 [==============================] - 0s 4ms/step - loss: 0.1690 - accuracy: 0.9685 - val_loss: 0.1881 - val_accuracy: 0.9787\n",
      "Epoch 55/100\n",
      "12/12 [==============================] - 0s 4ms/step - loss: 0.1665 - accuracy: 0.9685 - val_loss: 0.1859 - val_accuracy: 0.9787\n",
      "Epoch 56/100\n",
      "12/12 [==============================] - 0s 4ms/step - loss: 0.1641 - accuracy: 0.9711 - val_loss: 0.1836 - val_accuracy: 0.9787\n",
      "Epoch 57/100\n",
      "12/12 [==============================] - 0s 4ms/step - loss: 0.1619 - accuracy: 0.9738 - val_loss: 0.1814 - val_accuracy: 0.9787\n",
      "Epoch 58/100\n",
      "12/12 [==============================] - 0s 4ms/step - loss: 0.1596 - accuracy: 0.9738 - val_loss: 0.1794 - val_accuracy: 0.9787\n",
      "Epoch 59/100\n",
      "12/12 [==============================] - 0s 4ms/step - loss: 0.1575 - accuracy: 0.9738 - val_loss: 0.1774 - val_accuracy: 0.9787\n",
      "Epoch 60/100\n",
      "12/12 [==============================] - 0s 4ms/step - loss: 0.1555 - accuracy: 0.9738 - val_loss: 0.1754 - val_accuracy: 0.9787\n",
      "Epoch 61/100\n",
      "12/12 [==============================] - 0s 4ms/step - loss: 0.1535 - accuracy: 0.9738 - val_loss: 0.1735 - val_accuracy: 0.9787\n",
      "Epoch 62/100\n",
      "12/12 [==============================] - 0s 4ms/step - loss: 0.1517 - accuracy: 0.9738 - val_loss: 0.1717 - val_accuracy: 0.9787\n",
      "Epoch 63/100\n",
      "12/12 [==============================] - 0s 4ms/step - loss: 0.1498 - accuracy: 0.9738 - val_loss: 0.1699 - val_accuracy: 0.9787\n",
      "Epoch 64/100\n",
      "12/12 [==============================] - 0s 3ms/step - loss: 0.1480 - accuracy: 0.9738 - val_loss: 0.1682 - val_accuracy: 0.9787\n",
      "Epoch 65/100\n",
      "12/12 [==============================] - 0s 4ms/step - loss: 0.1463 - accuracy: 0.9738 - val_loss: 0.1666 - val_accuracy: 0.9787\n",
      "Epoch 66/100\n",
      "12/12 [==============================] - 0s 4ms/step - loss: 0.1446 - accuracy: 0.9738 - val_loss: 0.1650 - val_accuracy: 0.9787\n",
      "Epoch 67/100\n",
      "12/12 [==============================] - 0s 4ms/step - loss: 0.1431 - accuracy: 0.9738 - val_loss: 0.1635 - val_accuracy: 0.9787\n",
      "Epoch 68/100\n",
      "12/12 [==============================] - 0s 4ms/step - loss: 0.1415 - accuracy: 0.9738 - val_loss: 0.1619 - val_accuracy: 0.9840\n",
      "Epoch 69/100\n",
      "12/12 [==============================] - 0s 5ms/step - loss: 0.1400 - accuracy: 0.9738 - val_loss: 0.1605 - val_accuracy: 0.9840\n",
      "Epoch 70/100\n",
      "12/12 [==============================] - 0s 4ms/step - loss: 0.1385 - accuracy: 0.9764 - val_loss: 0.1591 - val_accuracy: 0.9840\n",
      "Epoch 71/100\n",
      "12/12 [==============================] - 0s 4ms/step - loss: 0.1371 - accuracy: 0.9764 - val_loss: 0.1577 - val_accuracy: 0.9840\n",
      "Epoch 72/100\n",
      "12/12 [==============================] - 0s 4ms/step - loss: 0.1358 - accuracy: 0.9790 - val_loss: 0.1564 - val_accuracy: 0.9840\n",
      "Epoch 73/100\n",
      "12/12 [==============================] - 0s 4ms/step - loss: 0.1344 - accuracy: 0.9790 - val_loss: 0.1550 - val_accuracy: 0.9840\n",
      "Epoch 74/100\n",
      "12/12 [==============================] - 0s 4ms/step - loss: 0.1331 - accuracy: 0.9816 - val_loss: 0.1538 - val_accuracy: 0.9840\n",
      "Epoch 75/100\n",
      "12/12 [==============================] - 0s 4ms/step - loss: 0.1319 - accuracy: 0.9816 - val_loss: 0.1525 - val_accuracy: 0.9840\n",
      "Epoch 76/100\n",
      "12/12 [==============================] - 0s 4ms/step - loss: 0.1306 - accuracy: 0.9816 - val_loss: 0.1514 - val_accuracy: 0.9840\n",
      "Epoch 77/100\n",
      "12/12 [==============================] - 0s 4ms/step - loss: 0.1294 - accuracy: 0.9816 - val_loss: 0.1502 - val_accuracy: 0.9840\n",
      "Epoch 78/100\n",
      "12/12 [==============================] - 0s 4ms/step - loss: 0.1283 - accuracy: 0.9816 - val_loss: 0.1490 - val_accuracy: 0.9840\n",
      "Epoch 79/100\n",
      "12/12 [==============================] - 0s 4ms/step - loss: 0.1271 - accuracy: 0.9816 - val_loss: 0.1479 - val_accuracy: 0.9787\n",
      "Epoch 80/100\n",
      "12/12 [==============================] - 0s 4ms/step - loss: 0.1260 - accuracy: 0.9816 - val_loss: 0.1468 - val_accuracy: 0.9787\n",
      "Epoch 81/100\n",
      "12/12 [==============================] - 0s 4ms/step - loss: 0.1249 - accuracy: 0.9816 - val_loss: 0.1458 - val_accuracy: 0.9787\n",
      "Epoch 82/100\n",
      "12/12 [==============================] - 0s 4ms/step - loss: 0.1239 - accuracy: 0.9816 - val_loss: 0.1447 - val_accuracy: 0.9787\n",
      "Epoch 83/100\n",
      "12/12 [==============================] - 0s 4ms/step - loss: 0.1229 - accuracy: 0.9816 - val_loss: 0.1437 - val_accuracy: 0.9787\n",
      "Epoch 84/100\n",
      "12/12 [==============================] - 0s 4ms/step - loss: 0.1219 - accuracy: 0.9816 - val_loss: 0.1427 - val_accuracy: 0.9787\n",
      "Epoch 85/100\n",
      "12/12 [==============================] - 0s 4ms/step - loss: 0.1210 - accuracy: 0.9816 - val_loss: 0.1417 - val_accuracy: 0.9787\n",
      "Epoch 86/100\n",
      "12/12 [==============================] - 0s 4ms/step - loss: 0.1200 - accuracy: 0.9843 - val_loss: 0.1408 - val_accuracy: 0.9787\n",
      "Epoch 87/100\n",
      "12/12 [==============================] - 0s 4ms/step - loss: 0.1191 - accuracy: 0.9843 - val_loss: 0.1399 - val_accuracy: 0.9787\n",
      "Epoch 88/100\n",
      "12/12 [==============================] - 0s 4ms/step - loss: 0.1182 - accuracy: 0.9843 - val_loss: 0.1390 - val_accuracy: 0.9787\n",
      "Epoch 89/100\n",
      "12/12 [==============================] - 0s 4ms/step - loss: 0.1173 - accuracy: 0.9843 - val_loss: 0.1381 - val_accuracy: 0.9787\n",
      "Epoch 90/100\n",
      "12/12 [==============================] - 0s 4ms/step - loss: 0.1165 - accuracy: 0.9843 - val_loss: 0.1372 - val_accuracy: 0.9787\n",
      "Epoch 91/100\n",
      "12/12 [==============================] - 0s 4ms/step - loss: 0.1156 - accuracy: 0.9843 - val_loss: 0.1364 - val_accuracy: 0.9787\n",
      "Epoch 92/100\n",
      "12/12 [==============================] - 0s 4ms/step - loss: 0.1148 - accuracy: 0.9869 - val_loss: 0.1356 - val_accuracy: 0.9787\n",
      "Epoch 93/100\n",
      "12/12 [==============================] - 0s 4ms/step - loss: 0.1140 - accuracy: 0.9869 - val_loss: 0.1348 - val_accuracy: 0.9787\n",
      "Epoch 94/100\n",
      "12/12 [==============================] - 0s 4ms/step - loss: 0.1132 - accuracy: 0.9869 - val_loss: 0.1340 - val_accuracy: 0.9787\n",
      "Epoch 95/100\n",
      "12/12 [==============================] - 0s 4ms/step - loss: 0.1124 - accuracy: 0.9869 - val_loss: 0.1332 - val_accuracy: 0.9787\n",
      "Epoch 96/100\n",
      "12/12 [==============================] - 0s 4ms/step - loss: 0.1117 - accuracy: 0.9869 - val_loss: 0.1324 - val_accuracy: 0.9787\n",
      "Epoch 97/100\n",
      "12/12 [==============================] - 0s 4ms/step - loss: 0.1110 - accuracy: 0.9869 - val_loss: 0.1317 - val_accuracy: 0.9787\n",
      "Epoch 98/100\n",
      "12/12 [==============================] - 0s 4ms/step - loss: 0.1102 - accuracy: 0.9869 - val_loss: 0.1310 - val_accuracy: 0.9787\n",
      "Epoch 99/100\n",
      "12/12 [==============================] - 0s 4ms/step - loss: 0.1096 - accuracy: 0.9869 - val_loss: 0.1303 - val_accuracy: 0.9787\n",
      "Epoch 100/100\n",
      "12/12 [==============================] - 0s 4ms/step - loss: 0.1088 - accuracy: 0.9869 - val_loss: 0.1296 - val_accuracy: 0.9787\n",
      "12/12 [==============================] - 0s 2ms/step - loss: 0.1085 - accuracy: 0.9869\n",
      "Train score: [0.10847534239292145, 0.9868766665458679]\n",
      "6/6 [==============================] - 0s 2ms/step - loss: 0.1296 - accuracy: 0.9787\n",
      "Test score: [0.12955912947654724, 0.978723406791687]\n"
     ]
    }
   ],
   "source": [
    "# Now all the fun Tensorflow stuff\n",
    "# Build the model\n",
    "\n",
    "model = tf.keras.models.Sequential([\n",
    "  tf.keras.layers.Input(shape=(D,)),\n",
    "  tf.keras.layers.Dense(1, activation='sigmoid')\n",
    "])\n",
    "\n",
    "# Alternatively, you can do:\n",
    "# model = tf.keras.models.Sequential()\n",
    "# model.add(tf.keras.layers.Dense(1, input_shape=(D,), activation='sigmoid'))\n",
    "\n",
    "model.compile(optimizer='adam',\n",
    "              loss='binary_crossentropy',\n",
    "              metrics=['accuracy'])\n",
    "\n",
    "\n",
    "# Train the model\n",
    "r = model.fit(X_train, y_train, validation_data=(X_test, y_test), epochs=100)\n",
    "\n",
    "\n",
    "# Evaluate the model - evaluate() returns loss and accuracy\n",
    "print(\"Train score:\", model.evaluate(X_train, y_train))\n",
    "print(\"Test score:\", model.evaluate(X_test, y_test))"
   ]
  },
  {
   "cell_type": "code",
   "execution_count": 20,
   "metadata": {
    "colab": {
     "base_uri": "https://localhost:8080/",
     "height": 283
    },
    "executionInfo": {
     "elapsed": 402,
     "status": "ok",
     "timestamp": 1605400529994,
     "user": {
      "displayName": "Eric McMillan",
      "photoUrl": "",
      "userId": "09416985388001509452"
     },
     "user_tz": 300
    },
    "id": "W0fK5PQc8aJ_",
    "outputId": "b78c0121-7c96-4df3-80b0-53f6d2af6725"
   },
   "outputs": [
    {
     "data": {
      "text/plain": [
       "<matplotlib.legend.Legend at 0x7fb6404d65c0>"
      ]
     },
     "execution_count": 20,
     "metadata": {
      "tags": []
     },
     "output_type": "execute_result"
    },
    {
     "data": {
      "image/png": "[encoded data removed]",
      "text/plain": [
       "<Figure size 432x288 with 1 Axes>"
      ]
     },
     "metadata": {
      "needs_background": "light",
      "tags": []
     },
     "output_type": "display_data"
    }
   ],
   "source": [
    "# Plot what's returned by model.fit()\n",
    "import matplotlib.pyplot as plt\n",
    "plt.plot(r.history['loss'], label='loss')\n",
    "plt.plot(r.history['val_loss'], label='val_loss')\n",
    "plt.legend()"
   ]
  },
  {
   "cell_type": "code",
   "execution_count": 21,
   "metadata": {
    "colab": {
     "base_uri": "https://localhost:8080/",
     "height": 283
    },
    "executionInfo": {
     "elapsed": 336,
     "status": "ok",
     "timestamp": 1605400533075,
     "user": {
      "displayName": "Eric McMillan",
      "photoUrl": "",
      "userId": "09416985388001509452"
     },
     "user_tz": 300
    },
    "id": "VBAA2UY28vJN",
    "outputId": "63013e63-7527-4ed4-9a81-ad3a93c1051d"
   },
   "outputs": [
    {
     "data": {
      "text/plain": [
       "<matplotlib.legend.Legend at 0x7fb64054da20>"
      ]
     },
     "execution_count": 21,
     "metadata": {
      "tags": []
     },
     "output_type": "execute_result"
    },
    {
     "data": {
      "image/png": "[encoded data removed]",
      "text/plain": [
       "<Figure size 432x288 with 1 Axes>"
      ]
     },
     "metadata": {
      "needs_background": "light",
      "tags": []
     },
     "output_type": "display_data"
    }
   ],
   "source": [
    "# Plot the accuracy too\n",
    "plt.plot(r.history['accuracy'], label='acc')\n",
    "plt.plot(r.history['val_accuracy'], label='val_acc')\n",
    "plt.legend()"
   ]
  },
  {
   "cell_type": "markdown",
   "metadata": {
    "id": "GrZnHBI8NH-u"
   },
   "source": [
    "# Part 2: Making Predictions\n",
    "\n",
    "This goes with the lecture \"Making Predictions\""
   ]
  },
  {
   "cell_type": "code",
   "execution_count": 23,
   "metadata": {
    "executionInfo": {
     "elapsed": 242,
     "status": "ok",
     "timestamp": 1605400558510,
     "user": {
      "displayName": "Eric McMillan",
      "photoUrl": "",
      "userId": "09416985388001509452"
     },
     "user_tz": 300
    },
    "id": "Ss1LJwIVKREf"
   },
   "outputs": [],
   "source": [
    "# Make predictions\n",
    "P = model.predict(X_test)\n",
    "print(P) # they are outputs of the sigmoid, interpreted as probabilities p(y = 1 | x)"
   ]
  },
  {
   "cell_type": "code",
   "execution_count": 24,
   "metadata": {
    "colab": {
     "base_uri": "https://localhost:8080/"
    },
    "executionInfo": {
     "elapsed": 403,
     "status": "ok",
     "timestamp": 1605400584090,
     "user": {
      "displayName": "Eric McMillan",
      "photoUrl": "",
      "userId": "09416985388001509452"
     },
     "user_tz": 300
    },
    "id": "Tv0cN7J6KoVu",
    "outputId": "9a07860b-bf7e-4f16-d7ad-b0600e186ab7"
   },
   "outputs": [
    {
     "name": "stdout",
     "output_type": "stream",
     "text": [
      "[0. 0. 0. 1. 1. 1. 1. 0. 0. 0. 1. 1. 0. 1. 1. 0. 1. 1. 0. 1. 0. 1. 0. 0.\n",
      " 1. 1. 1. 1. 1. 0. 1. 0. 1. 0. 1. 1. 0. 1. 0. 0. 0. 0. 1. 1. 1. 1. 1. 0.\n",
      " 1. 0. 1. 1. 0. 1. 1. 1. 0. 1. 1. 0. 1. 1. 1. 1. 1. 0. 1. 1. 0. 1. 1. 1.\n",
      " 1. 1. 1. 1. 0. 0. 0. 0. 1. 1. 1. 1. 1. 1. 1. 0. 0. 1. 1. 0. 1. 0. 0. 0.\n",
      " 1. 0. 0. 1. 0. 1. 1. 1. 1. 1. 0. 0. 1. 0. 0. 0. 1. 1. 0. 0. 0. 0. 1. 0.\n",
      " 0. 1. 1. 0. 1. 0. 1. 0. 1. 1. 1. 0. 0. 1. 1. 1. 0. 1. 0. 1. 1. 1. 1. 1.\n",
      " 0. 1. 1. 1. 1. 1. 0. 1. 1. 1. 1. 0. 1. 0. 1. 1. 0. 1. 1. 0. 0. 1. 1. 1.\n",
      " 1. 1. 1. 1. 1. 1. 0. 1. 0. 0. 1. 1. 1. 1. 0. 0. 1. 0. 1. 0.]\n"
     ]
    }
   ],
   "source": [
    "# Round to get the actual predictions\n",
    "# Note: has to be flattened since the targets are size (N,) while the predictions are size (N,1)\n",
    "import numpy as np\n",
    "P = np.round(P).flatten()\n",
    "print(P)"
   ]
  },
  {
   "cell_type": "code",
   "execution_count": 25,
   "metadata": {
    "colab": {
     "base_uri": "https://localhost:8080/"
    },
    "executionInfo": {
     "elapsed": 402,
     "status": "ok",
     "timestamp": 1605400622814,
     "user": {
      "displayName": "Eric McMillan",
      "photoUrl": "",
      "userId": "09416985388001509452"
     },
     "user_tz": 300
    },
    "id": "yJU09XkmK4nQ",
    "outputId": "2fd62264-f299-47f5-d8b1-4f83782b8e83"
   },
   "outputs": [
    {
     "name": "stdout",
     "output_type": "stream",
     "text": [
      "Manually calculated accuracy: 0.9787234042553191\n",
      "6/6 [==============================] - 0s 2ms/step - loss: 0.1296 - accuracy: 0.9787\n",
      "Evaluate output: [0.12955912947654724, 0.978723406791687]\n"
     ]
    }
   ],
   "source": [
    "# Calculate the accuracy, compare it to evaluate() output\n",
    "print(\"Manually calculated accuracy:\", np.mean(P == y_test))\n",
    "print(\"Evaluate output:\", model.evaluate(X_test, y_test))"
   ]
  },
  {
   "cell_type": "markdown",
   "metadata": {
    "id": "iogYs0uGNS4l"
   },
   "source": [
    "# Part 3: Saving and Loading a Model\n",
    "\n",
    "This goes with the lecture \"Saving and Loading a Model\""
   ]
  },
  {
   "cell_type": "code",
   "execution_count": 26,
   "metadata": {
    "executionInfo": {
     "elapsed": 323,
     "status": "ok",
     "timestamp": 1605400881359,
     "user": {
      "displayName": "Eric McMillan",
      "photoUrl": "",
      "userId": "09416985388001509452"
     },
     "user_tz": 300
    },
    "id": "L1uHxJ2SNXan"
   },
   "outputs": [],
   "source": [
    "# Let's now save our model to a file\n",
    "model.save('linearclassifier.h5')"
   ]
  },
  {
   "cell_type": "code",
   "execution_count": 27,
   "metadata": {
    "colab": {
     "base_uri": "https://localhost:8080/"
    },
    "executionInfo": {
     "elapsed": 395,
     "status": "ok",
     "timestamp": 1605400883549,
     "user": {
      "displayName": "Eric McMillan",
      "photoUrl": "",
      "userId": "09416985388001509452"
     },
     "user_tz": 300
    },
    "id": "F6PHmjb0OFBf",
    "outputId": "4c9f5c94-114c-4dab-f00f-8bf9db7ea87f"
   },
   "outputs": [
    {
     "name": "stdout",
     "output_type": "stream",
     "text": [
      "total 24K\n",
      "-rw-r--r-- 1 root root  19K Nov 15 00:41 linearclassifier.h5\n",
      "drwxr-xr-x 1 root root 4.0K Nov  6 17:30 sample_data\n"
     ]
    }
   ],
   "source": [
    "# Check that the model file exists\n",
    "!ls -lh "
   ]
  },
  {
   "cell_type": "code",
   "execution_count": 28,
   "metadata": {
    "colab": {
     "base_uri": "https://localhost:8080/"
    },
    "executionInfo": {
     "elapsed": 459,
     "status": "ok",
     "timestamp": 1605400927500,
     "user": {
      "displayName": "Eric McMillan",
      "photoUrl": "",
      "userId": "09416985388001509452"
     },
     "user_tz": 300
    },
    "id": "FgFBrBveNoOR",
    "outputId": "90b64ad0-21ff-47ec-88b7-2e4c42f6ebee"
   },
   "outputs": [
    {
     "name": "stdout",
     "output_type": "stream",
     "text": [
      "[<tensorflow.python.keras.layers.core.Dense object at 0x7fb6403c7518>]\n",
      "6/6 [==============================] - 0s 2ms/step - loss: 0.1296 - accuracy: 0.9787\n"
     ]
    },
    {
     "data": {
      "text/plain": [
       "[0.12955912947654724, 0.978723406791687]"
      ]
     },
     "execution_count": 28,
     "metadata": {
      "tags": []
     },
     "output_type": "execute_result"
    }
   ],
   "source": [
    "# Let's load the model and confirm that it still works\n",
    "# Note: there is a bug in Keras where load/save only works if you DON'T use the Input() layer explicitly\n",
    "# So, make sure you define the model with ONLY Dense(1, input_shape=(D,))\n",
    "# At least, until the bug is fixed\n",
    "# https://github.com/keras-team/keras/issues/10417\n",
    "model = tf.keras.models.load_model('linearclassifier.h5')\n",
    "print(model.layers)\n",
    "model.evaluate(X_test, y_test)"
   ]
  },
  {
   "cell_type": "code",
   "execution_count": null,
   "metadata": {
    "id": "_8rGQI-Rpo2T"
   },
   "outputs": [],
   "source": [
    "\n",
    "# Download the file - requires Chrome (at this point)\n",
    "from google.colab import files\n",
    "files.download('linearclassifier.h5')"
   ]
  }
 ],
 "metadata": {
  "accelerator": "GPU",
  "colab": {
   "collapsed_sections": [],
   "name": "TF2.0 Linear Classification_20201114.ipynb",
   "provenance": [
    {
     "file_id": "16kgx8sv9v3dunBeMc_Db4YzAUFkziA1_",
     "timestamp": 1605392664732
    }
   ],
   "toc_visible": true
  },
  "kernelspec": {
   "display_name": "Python 3",
   "language": "python",
   "name": "python3"
  },
  "language_info": {
   "codemirror_mode": {
    "name": "ipython",
    "version": 3
   },
   "file_extension": ".py",
   "mimetype": "text/x-python",
   "name": "python",
   "nbconvert_exporter": "python",
   "pygments_lexer": "ipython3",
   "version": "3.7.3"
  },
  "metadata": {
   "interpreter": {
    "hash": "c255599e8bc380236986f3781068cae215f1aff95f0c09bd4cb6bb4781448a56"
   }
  }
 },
 "nbformat": 4,
 "nbformat_minor": 2
}
